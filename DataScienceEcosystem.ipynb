{
 "cells": [
  {
   "cell_type": "markdown",
   "id": "650319fd-4e47-49c6-8cde-5f38e7607b0a",
   "metadata": {},
   "source": [
    "# Data Science Tools and Ecosystem"
   ]
  },
  {
   "cell_type": "markdown",
   "id": "c54a9335-f8f1-4f6d-bb32-94c9f5da022e",
   "metadata": {},
   "source": [
    "In this notebook, Data Science Tools and Ecosystem are summarized."
   ]
  },
  {
   "cell_type": "markdown",
   "id": "2a054a2c-f089-47f6-a590-b07e572afb98",
   "metadata": {},
   "source": [
    "**Objectives:**\n",
    "* List of popular languajes\n",
    "* Commonly used libraries\n",
    "* Data science tools\n",
    "* Examples of arithmetic expressions in Python"
   ]
  },
  {
   "cell_type": "markdown",
   "id": "efbf14b4-6a45-4525-80b2-a08e6d6cc0f8",
   "metadata": {},
   "source": [
    "Some of the popular languages that Data Scientists use are:\n",
    "1. Python\n",
    "2. R\n",
    "3. C/C++"
   ]
  },
  {
   "cell_type": "markdown",
   "id": "531afb3e-803a-4aaf-a009-15f052dd6806",
   "metadata": {},
   "source": [
    "Some of the commonly used libraries used by Data Scientists include:\n",
    "1. Pandas\n",
    "2. Matplotlib\n",
    "3. Numpy\n",
    "4. Scikit-learn\n"
   ]
  },
  {
   "cell_type": "markdown",
   "id": "7b54afff-c376-4048-9545-04ee1f74cbd3",
   "metadata": {},
   "source": [
    "| DATA Science Tools |\n",
    "| ------------------- |\n",
    "| Jupiter Lab |\n",
    "| RStudio | \n",
    "| VSCode |"
   ]
  },
  {
   "cell_type": "markdown",
   "id": "ee117cac-405f-4e42-83c7-ab5e1c581306",
   "metadata": {},
   "source": [
    "### Below are a few examples of evaluating arithmetic expressions in Python"
   ]
  },
  {
   "cell_type": "code",
   "execution_count": 2,
   "id": "33db4b91-a772-41a6-9001-43353ac9745a",
   "metadata": {},
   "outputs": [
    {
     "data": {
      "text/plain": [
       "17"
      ]
     },
     "execution_count": 2,
     "metadata": {},
     "output_type": "execute_result"
    }
   ],
   "source": [
    "#This a simple arithmetic expression to mutiply then add integers\n",
    "(3*4)+5"
   ]
  },
  {
   "cell_type": "code",
   "execution_count": 3,
   "id": "e11b469c-e8f8-4012-b529-dd8861bd33aa",
   "metadata": {},
   "outputs": [
    {
     "data": {
      "text/plain": [
       "3.3333333333333335"
      ]
     },
     "execution_count": 3,
     "metadata": {},
     "output_type": "execute_result"
    }
   ],
   "source": [
    "# This will convert 200 minutes to hours by diving by 60\n",
    "200/60"
   ]
  },
  {
   "cell_type": "markdown",
   "id": "579e2786-d667-4093-b0fa-9b015807ffff",
   "metadata": {},
   "source": [
    "## Author\n",
    "Aline Galindo Tellez"
   ]
  },
  {
   "cell_type": "code",
   "execution_count": null,
   "id": "2a2315d8-4535-4084-900a-eb2c2bdf9bda",
   "metadata": {},
   "outputs": [],
   "source": []
  }
 ],
 "metadata": {
  "kernelspec": {
   "display_name": "Python 3 (ipykernel)",
   "language": "python",
   "name": "python3"
  },
  "language_info": {
   "codemirror_mode": {
    "name": "ipython",
    "version": 3
   },
   "file_extension": ".py",
   "mimetype": "text/x-python",
   "name": "python",
   "nbconvert_exporter": "python",
   "pygments_lexer": "ipython3",
   "version": "3.10.12"
  }
 },
 "nbformat": 4,
 "nbformat_minor": 5
}
